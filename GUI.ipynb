{
 "cells": [
  {
   "cell_type": "code",
   "execution_count": null,
   "id": "bbeac2c0-ac3c-49c1-9723-979745829c08",
   "metadata": {},
   "outputs": [],
   "source": [
    "from eln2nwb import gui\n",
    "\n",
    "gui.launch()"
   ]
  }
 ],
 "metadata": {
  "kernelspec": {
   "display_name": "Python 3 (ipykernel)",
   "language": "python",
   "name": "python3"
  },
  "language_info": {
   "codemirror_mode": {
    "name": "ipython",
    "version": 3
   },
   "file_extension": ".py",
   "mimetype": "text/x-python",
   "name": "python",
   "nbconvert_exporter": "python",
   "pygments_lexer": "ipython3",
   "version": "3.7.10"
  }
 },
 "nbformat": 4,
 "nbformat_minor": 5
}
