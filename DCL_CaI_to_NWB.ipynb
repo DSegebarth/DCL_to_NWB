{
 "cells": [
  {
   "cell_type": "markdown",
   "id": "bc6c7a61",
   "metadata": {},
   "source": [
    "# Initial attempts: Conversion of DCL Calcium Imaging data into NWB:N\n",
    "---\n",
    "### Current status:\n",
    "We´re still quite at the beginning - so no widget can be found here yet :-) <br>\n",
    "ELN roll-out will start in the upcoming weeks, and we are thus starting with the conversion of files with manual input of the data\n",
    "---"
   ]
  },
  {
   "cell_type": "markdown",
   "id": "75979d6b-9232-4861-a86f-55bb32266188",
   "metadata": {},
   "source": [
    "### The file will also contain data about:\n",
    "* Calcium imaging\n",
    "* scored behaviors\n",
    "* Heart rate recording\n",
    "* Thermal imaging"
   ]
  },
  {
   "cell_type": "code",
   "execution_count": 1,
   "id": "af69d995",
   "metadata": {},
   "outputs": [],
   "source": [
    "# Import all dependencies from the NWB environment\n",
    "%matplotlib widget\n",
    "\n",
    "import datetime\n",
    "import pytz\n",
    "import string\n",
    "import random\n",
    "\n",
    "import pandas as pd\n",
    "import numpy as np\n",
    "import h5py\n",
    "import math\n",
    "import os\n",
    "\n",
    "from skimage import io\n",
    "from skimage.draw import polygon\n",
    "\n",
    "import matplotlib.pyplot as plt\n",
    "\n",
    "from nwbwidgets import nwb2widget\n",
    "\n",
    "from pynwb import NWBFile, TimeSeries, NWBHDF5IO\n",
    "from pynwb.file import Subject\n",
    "from pynwb.device import Device\n",
    "from pynwb.behavior import SpatialSeries, Position, BehavioralEpochs\n",
    "from pynwb.ophys import TwoPhotonSeries, OpticalChannel, ImageSegmentation, Fluorescence"
   ]
  },
  {
   "cell_type": "markdown",
   "id": "baa4eec6-3f03-46ee-adb6-ecac39004d85",
   "metadata": {
    "tags": []
   },
   "source": [
    "## Load the data that will be converted (and merged) into a NWB file:"
   ]
  },
  {
   "cell_type": "code",
   "execution_count": 2,
   "id": "3bdec2bc-4bc4-4514-80f0-786502e1a91a",
   "metadata": {},
   "outputs": [],
   "source": [
    "file_dir = '/home/ds/NWB/ExampleDataset/'"
   ]
  },
  {
   "cell_type": "code",
   "execution_count": 3,
   "id": "5c7952e2-40eb-4a2e-9f06-661877ac1f9f",
   "metadata": {},
   "outputs": [],
   "source": [
    "# Tracking, scored behavioral events, ROI contours, fluorescence traces\n",
    "d_dfs = pd.read_excel(file_dir + '175_F7-49_201030_OF_AllData.xls', sheet_name=None)\n",
    "# Raw calcium imaging movie\n",
    "f = h5py.File(file_dir + '175_F7-49_201030_OF_PP-1_PF-1_MC-1.h5', 'r')\n",
    "#img_stack = io.imread('175_F7-49_201030_OF_PP.tiff')\n",
    "\n",
    "# For dummy thermal trace:\n",
    "df_states = pd.read_csv(file_dir + 'States_ceiling_reduced.csv', index_col=0)\n"
   ]
  },
  {
   "cell_type": "markdown",
   "id": "ce408920-54a7-47b7-aa53-e21a73f8b667",
   "metadata": {},
   "source": [
    "### Create binary segmentation masks for all ROIs individually"
   ]
  },
  {
   "cell_type": "code",
   "execution_count": 4,
   "id": "e7691bbd-f11a-4fc6-919e-cc212bf4e99d",
   "metadata": {},
   "outputs": [],
   "source": [
    "l_ROI_IDs = [elem[:-2] for elem in d_dfs['CAI - ROIS'].columns[::2]]\n",
    "l_ROI_masks = []\n",
    "\n",
    "for ROI_ID in l_ROI_IDs:\n",
    "    \n",
    "    x = d_dfs['CAI - ROIS']['{}_X'.format(ROI_ID)].values\n",
    "    last_idx = np.where(~np.isnan(x))[0][-1] + 1\n",
    "    x = x[:last_idx]\n",
    "    y = d_dfs['CAI - ROIS']['{}_Y'.format(ROI_ID)].values[:last_idx]\n",
    "    xx, yy = polygon(x,y)\n",
    "    ROI_mask = np.zeros((348, 385))\n",
    "    ROI_mask[xx, yy] = 1\n",
    "    l_ROI_masks.append((ROI_ID, ROI_mask))"
   ]
  },
  {
   "cell_type": "markdown",
   "id": "751d317b-f2be-4696-995e-63c399a2f2a1",
   "metadata": {},
   "source": [
    "### Extract tracked position"
   ]
  },
  {
   "cell_type": "code",
   "execution_count": 5,
   "id": "345e74d9-d734-4fa6-ad8f-4cba2459c07a",
   "metadata": {},
   "outputs": [],
   "source": [
    "x = d_dfs['Tracking']['CenterG_X'].values\n",
    "y = d_dfs['Tracking']['CenterG_Y'].values\n",
    "\n",
    "times = d_dfs['Tracking']['Times'].values\n",
    "\n",
    "\n",
    "position_data = np.array((x,y)).T\n",
    "position_times = d_dfs['Tracking']['Times'].values"
   ]
  },
  {
   "cell_type": "markdown",
   "id": "d90220c7-6733-48c3-9e96-3cef2408a5d0",
   "metadata": {},
   "source": [
    "### Extract interval of behavioral events"
   ]
  },
  {
   "cell_type": "code",
   "execution_count": 6,
   "id": "b495a7d1-0d79-4ab1-a3d3-50314fed38e0",
   "metadata": {},
   "outputs": [],
   "source": [
    "def find_nearest(array,value):\n",
    "    idx = np.searchsorted(array, value, side=\"left\")\n",
    "    if idx > 0 and (idx == len(array) or math.fabs(value - array[idx-1]) < math.fabs(value - array[idx])):\n",
    "        return idx-1\n",
    "    else:\n",
    "        return idx\n",
    "    \n",
    "    \n",
    "def take_first(elem):\n",
    "    return elem[0]"
   ]
  },
  {
   "cell_type": "code",
   "execution_count": 7,
   "id": "5a805a5d-704b-45ed-af08-23735f78172a",
   "metadata": {},
   "outputs": [
    {
     "data": {
      "text/plain": [
       "[(58.499, 59.666, 'Rearing'),\n",
       " (66.933, 67.833, 'Rearing'),\n",
       " (69.033, 69.566, 'Rearing'),\n",
       " (95.732, 96.399, 'StretchAttend'),\n",
       " (110.932, 111.666, 'Rearing'),\n",
       " (115.066, 116.632, 'Grooming'),\n",
       " (148.832, 149.365, 'Rearing'),\n",
       " (187.198128, 188.231451, 'Immobility'),\n",
       " (194.365, 201.465, 'Grooming'),\n",
       " (201.731, 212.298, 'Grooming')]"
      ]
     },
     "execution_count": 7,
     "metadata": {},
     "output_type": "execute_result"
    }
   ],
   "source": [
    "l_behaviors = [elem[:elem.index('_')] for elem in d_dfs['Behaviour'].columns[::2]]\n",
    "\n",
    "l_behavioral_time_intervals = []\n",
    "\n",
    "for behavior in l_behaviors:\n",
    "    behavior_id = l_behaviors.index(behavior) +1\n",
    "    df_temp = d_dfs['Behaviour'][['{}_1'.format(behavior), '{}_2'.format(behavior)]].copy()\n",
    "    for i in range(df_temp.shape[0]):\n",
    "\n",
    "        start_time = df_temp.loc[i, '{}_1'.format(behavior)]\n",
    "        stop_time = df_temp.loc[i, '{}_2'.format(behavior)]\n",
    "        if start_time > 0: \n",
    "            l_behavioral_time_intervals.append((start_time, stop_time, behavior))         \n",
    "        else:\n",
    "            continue\n",
    "\n",
    "l_behavioral_time_intervals.sort(key=take_first)\n",
    "l_behavioral_time_intervals[:10]"
   ]
  },
  {
   "cell_type": "markdown",
   "id": "a9843468-f7ec-4ea6-a03c-1409f3303522",
   "metadata": {},
   "source": [
    "## Create NWB file:"
   ]
  },
  {
   "cell_type": "code",
   "execution_count": 8,
   "id": "06b67799-016a-4ccb-80af-44af18616f0a",
   "metadata": {},
   "outputs": [],
   "source": [
    "tz = pytz.timezone('Europe/Berlin')\n",
    "N = 12\n",
    "\n",
    "nwbfile = NWBFile(\n",
    "    session_description='Open Field recording',\n",
    "    session_id = 'OF',\n",
    "    surgery = 'Virus injection on 2020/08/27 by Nina Schukraft (stereotactical coordinates: AP=-4.6, ML=0.55, DV=-3.0 [units: mm])\\nGRIN-lense implantation on 2020/09/07 by Nina Schukraft (stereotactical coordinates: AP=-4.6, ML=0.55, DV=-2.5 [units: mm])',\n",
    "    virus = 'php.eb-flex-GCaMP7f, injection location: AP=-4.6, ML=0.55, DV=-3.0 [units: mm], source: in-house production',\n",
    "    identifier=''.join(random.choices(string.ascii_uppercase + string.digits, k=N)),\n",
    "    session_start_time=datetime.datetime(2020,10,30,9,30, tzinfo=tz),\n",
    "    experimenter = ['Nina Schukraft', 'Jérémy Signoret-Genest', 'Philip Tovote'],\n",
    "    lab = 'Defense Circuits Lab',\n",
    "    institution = 'University Hospital Wuerzburg, Institute of Clinical Neurobiology'\n",
    ")"
   ]
  },
  {
   "cell_type": "markdown",
   "id": "a1ce835a-f7a9-4610-9985-f98f2fe22351",
   "metadata": {},
   "source": [
    "### Subject information"
   ]
  },
  {
   "cell_type": "code",
   "execution_count": 9,
   "id": "d212dfc2-d935-4329-b2e9-f504b3327f6c",
   "metadata": {},
   "outputs": [],
   "source": [
    "nwbfile.subject = Subject(\n",
    "    subject_id = '175_F7-49',\n",
    "    age = 'P148D', \n",
    "    date_of_birth = datetime.datetime(2020, 6, 4, tzinfo=tz),\n",
    "    strain = 'B6J.129S6(FVB)-Slc17a6tm2(cre)Lowl/MwarJ',\n",
    "    description = 'Mouse #F7-49 of line 175 (Vglut2-ires-cre)',\n",
    "    genotype = 'tg/+',\n",
    "    species = 'Mus musculus', \n",
    "    sex = 'M'\n",
    ")"
   ]
  },
  {
   "cell_type": "markdown",
   "id": "fe456c04-4fc4-48e2-905f-aa1ab88de20e",
   "metadata": {},
   "source": [
    "### BehavioralEvents"
   ]
  },
  {
   "cell_type": "code",
   "execution_count": 10,
   "id": "51a44a73-570d-40b4-8553-28a3597732d6",
   "metadata": {},
   "outputs": [
    {
     "data": {
      "text/html": [
       "<div>\n",
       "<style scoped>\n",
       "    .dataframe tbody tr th:only-of-type {\n",
       "        vertical-align: middle;\n",
       "    }\n",
       "\n",
       "    .dataframe tbody tr th {\n",
       "        vertical-align: top;\n",
       "    }\n",
       "\n",
       "    .dataframe thead th {\n",
       "        text-align: right;\n",
       "    }\n",
       "</style>\n",
       "<table border=\"1\" class=\"dataframe\">\n",
       "  <thead>\n",
       "    <tr style=\"text-align: right;\">\n",
       "      <th></th>\n",
       "      <th>start_time</th>\n",
       "      <th>stop_time</th>\n",
       "      <th>behavior</th>\n",
       "    </tr>\n",
       "    <tr>\n",
       "      <th>id</th>\n",
       "      <th></th>\n",
       "      <th></th>\n",
       "      <th></th>\n",
       "    </tr>\n",
       "  </thead>\n",
       "  <tbody>\n",
       "    <tr>\n",
       "      <th>0</th>\n",
       "      <td>58.499</td>\n",
       "      <td>59.666</td>\n",
       "      <td>Rearing</td>\n",
       "    </tr>\n",
       "    <tr>\n",
       "      <th>1</th>\n",
       "      <td>66.933</td>\n",
       "      <td>67.833</td>\n",
       "      <td>Rearing</td>\n",
       "    </tr>\n",
       "    <tr>\n",
       "      <th>2</th>\n",
       "      <td>69.033</td>\n",
       "      <td>69.566</td>\n",
       "      <td>Rearing</td>\n",
       "    </tr>\n",
       "    <tr>\n",
       "      <th>3</th>\n",
       "      <td>95.732</td>\n",
       "      <td>96.399</td>\n",
       "      <td>StretchAttend</td>\n",
       "    </tr>\n",
       "    <tr>\n",
       "      <th>4</th>\n",
       "      <td>110.932</td>\n",
       "      <td>111.666</td>\n",
       "      <td>Rearing</td>\n",
       "    </tr>\n",
       "  </tbody>\n",
       "</table>\n",
       "</div>"
      ],
      "text/plain": [
       "    start_time  stop_time       behavior\n",
       "id                                      \n",
       "0       58.499     59.666        Rearing\n",
       "1       66.933     67.833        Rearing\n",
       "2       69.033     69.566        Rearing\n",
       "3       95.732     96.399  StretchAttend\n",
       "4      110.932    111.666        Rearing"
      ]
     },
     "execution_count": 10,
     "metadata": {},
     "output_type": "execute_result"
    }
   ],
   "source": [
    "from pynwb.epoch import TimeIntervals\n",
    "\n",
    "time_interval_table = TimeIntervals('behavioral_intervals', description='scored behavioral intervals', id=None)\n",
    "time_interval_table.add_column('behavior', description='type of behavior')\n",
    "\n",
    "for elem in l_behavioral_time_intervals:\n",
    "    time_interval_table.add_interval(elem[0], elem[1], behavior=elem[2])\n",
    "\n",
    "time_interval_table.to_dataframe().head()"
   ]
  },
  {
   "cell_type": "code",
   "execution_count": 11,
   "id": "d61e87a4-d89b-4ea2-ab59-69f4c2264392",
   "metadata": {},
   "outputs": [
    {
     "data": {
      "text/plain": [
       "behavioral_intervals pynwb.epoch.TimeIntervals at 0x139895210165776\n",
       "Fields:\n",
       "  colnames: ['start_time' 'stop_time' 'behavior']\n",
       "  columns: (\n",
       "    start_time <class 'hdmf.common.table.VectorData'>,\n",
       "    stop_time <class 'hdmf.common.table.VectorData'>,\n",
       "    behavior <class 'hdmf.common.table.VectorData'>\n",
       "  )\n",
       "  description: scored behavioral intervals\n",
       "  id: id <class 'hdmf.common.table.ElementIdentifiers'>"
      ]
     },
     "execution_count": 11,
     "metadata": {},
     "output_type": "execute_result"
    }
   ],
   "source": [
    "nwbfile.add_time_intervals(time_interval_table)"
   ]
  },
  {
   "cell_type": "markdown",
   "id": "9c5a7e9b-1ec1-47e6-8b90-1770bbac68a5",
   "metadata": {},
   "source": [
    "### Extract HeartRate data"
   ]
  },
  {
   "cell_type": "code",
   "execution_count": 12,
   "id": "00b40d2a-7e5b-4123-bccd-7c056dc4af85",
   "metadata": {},
   "outputs": [],
   "source": [
    "timestamps = d_dfs['HeartRate']['Times'].values\n",
    "data = d_dfs['HeartRate']['HeartRate'].values\n",
    "\n",
    "heartrate_obj = TimeSeries('Heart rate recording', data=data, timestamps=timestamps, unit='beats per minute')"
   ]
  },
  {
   "cell_type": "markdown",
   "id": "1e381f57-967b-45b3-8e78-966c6f5dfc76",
   "metadata": {},
   "source": [
    "### Get some dummy thermal data"
   ]
  },
  {
   "cell_type": "code",
   "execution_count": 13,
   "id": "73f79d0f-ecba-411c-a48d-61bf71439784",
   "metadata": {},
   "outputs": [],
   "source": [
    "timestamps = df_states.loc[(df_states['Session'] == 'OF') & (df_states['Animal_ID'] == '175_F4-37'), 'Times'].values\n",
    "temperature = df_states.loc[(df_states['Session'] == 'OF') & (df_states['Animal_ID'] == '175_F4-37'), 'Temperature'].values\n",
    "\n",
    "temperature_obj = TimeSeries('Thermal recording', data=temperature, timestamps=timestamps, unit='degrees celsius')"
   ]
  },
  {
   "cell_type": "markdown",
   "id": "504f803f-d2f0-4e7a-b917-04096f51be7a",
   "metadata": {
    "jp-MarkdownHeadingCollapsed": true,
    "tags": []
   },
   "source": [
    "### Starting with the OPhys data:"
   ]
  },
  {
   "cell_type": "code",
   "execution_count": 14,
   "id": "7cc54369-144e-4915-9baa-7841b7600fa6",
   "metadata": {},
   "outputs": [
    {
     "data": {
      "text/plain": [
       "Miniscope pynwb.device.Device at 0x139892634232720\n",
       "Fields:\n",
       "  description: NVista3.0\n",
       "  manufacturer: Inscopix, US"
      ]
     },
     "execution_count": 14,
     "metadata": {},
     "output_type": "execute_result"
    }
   ],
   "source": [
    "device = Device(name='Miniscope', description='NVista3.0', manufacturer='Inscopix, US')\n",
    "nwbfile.add_device(device)"
   ]
  },
  {
   "cell_type": "code",
   "execution_count": 15,
   "id": "d4fbbb6e-dd45-4e91-91ff-aa37d649a17e",
   "metadata": {},
   "outputs": [],
   "source": [
    "optical_channel = OpticalChannel('my_optchan', 'description', 500.)\n",
    "imaging_plane = nwbfile.create_imaging_plane('my_imgpln', optical_channel,\n",
    "                                             description='ventro-lateral periaqueductal gray (AP=-4.6, ML=0.55, DV=-3.0)',\n",
    "                                             device=device, excitation_lambda=475., imaging_rate=10., indicator='GCamP6s',\n",
    "                                             location='vlPAG',\n",
    "                                             unit='millimeter')\n",
    "                                             #reference_frame='A frame to refer to',\n",
    "                                             #grid_spacing=(.01, .01))"
   ]
  },
  {
   "cell_type": "markdown",
   "id": "e495d8bd-dc70-4a4c-95d6-388aaaf9fdab",
   "metadata": {},
   "source": [
    "# Load the actual file\n",
    "image_series = TwoPhotonSeries(name='CaI', data=f['mov'][:],\n",
    "                               dimension=[385, 348],\n",
    "                               imaging_plane=imaging_plane,\n",
    "                               starting_frame=[0], format='tiff', starting_time=0.0, rate=1.0, unit='millimeter')\n"
   ]
  },
  {
   "cell_type": "code",
   "execution_count": 16,
   "id": "314c9985-96e6-464c-b8e8-f3a24dc43170",
   "metadata": {},
   "outputs": [],
   "source": [
    "# Or use externally stored file:\n",
    "image_series2 = TwoPhotonSeries(name='CaI_external',\n",
    "                               dimension=[385, 348],\n",
    "                               external_file=[file_dir + '175_F7-49_201030_OF_PP.tiff'],\n",
    "                               imaging_plane=imaging_plane,\n",
    "                               starting_frame=[0], \n",
    "                               format='external', \n",
    "                               starting_time=0.0, \n",
    "                               rate=1.0, \n",
    "                               unit='millimeter')"
   ]
  },
  {
   "cell_type": "code",
   "execution_count": 17,
   "id": "81bba999-7123-43e9-9fa4-a692e87c8040",
   "metadata": {},
   "outputs": [],
   "source": [
    "#nwbfile.add_acquisition(image_series)\n",
    "nwbfile.add_acquisition(image_series2)"
   ]
  },
  {
   "cell_type": "code",
   "execution_count": 18,
   "id": "156e2292-09c4-4f2d-af1f-32c9e93990a6",
   "metadata": {},
   "outputs": [],
   "source": [
    "mod = nwbfile.create_processing_module('ophys', 'contains optical physiology processed data')\n",
    "img_seg = ImageSegmentation()\n",
    "mod.add(img_seg)\n",
    "ps = img_seg.create_plane_segmentation('ROI segmentations',\n",
    "                                       imaging_plane, 'my_planeseg', image_series2)\n",
    "\n",
    "ID = 0\n",
    "for ROI_ID in range(len(l_ROI_masks)):\n",
    "    if ROI_ID in [3, 4, 10, 12, 14, 16, 22, 25]:\n",
    "        continue\n",
    "    else:\n",
    "        ps.add_roi(image_mask=l_ROI_masks[ROI_ID][1], id=ID)\n",
    "        ID = ID+ 1\n",
    "        \n",
    "        \n",
    "l_ROI_IDs_included = []\n",
    "l_ROI_IDs_excluded = []\n",
    "\n",
    "for ROI_ID in range(len(l_ROI_masks)):\n",
    "    if ROI_ID in [3, 4, 10, 12, 14, 16, 22, 25]:\n",
    "        l_ROI_IDs_excluded.append(l_ROI_masks[ROI_ID][0])\n",
    "    else:\n",
    "        l_ROI_IDs_included.append(l_ROI_masks[ROI_ID][0])"
   ]
  },
  {
   "cell_type": "code",
   "execution_count": 19,
   "id": "9ab12633-76ba-4f3c-9df3-df77c34d745d",
   "metadata": {},
   "outputs": [],
   "source": [
    "fl = Fluorescence()\n",
    "mod.add(fl)\n",
    "\n",
    "rt_region = ps.create_roi_table_region(description='all ROIs')\n",
    "data_included = d_dfs['CAI - Traces'][l_ROI_IDs_included].values\n",
    "data_excluded = d_dfs['CAI - Traces'][l_ROI_IDs_excluded].values\n",
    "timestamps = d_dfs['CAI - Traces']['Times'].values\n",
    "rrs = fl.create_roi_response_series('included', data=data_included, rois=rt_region, unit='lumens', timestamps=timestamps)\n",
    "#fl.create_roi_response_series('excluded', data=data_excluded, rois=rt_region, unit='lumens', timestamps=timestamps)"
   ]
  },
  {
   "cell_type": "markdown",
   "id": "d2b4d7e8-bafd-412f-a938-96f19e7d1439",
   "metadata": {},
   "source": [
    "### Tracking:"
   ]
  },
  {
   "cell_type": "code",
   "execution_count": 20,
   "id": "b0bb45fc-9c5e-41f8-9c25-8cb28130611b",
   "metadata": {},
   "outputs": [
    {
     "data": {
      "text/plain": [
       "Position pynwb.behavior.Position at 0x139892634280672\n",
       "Fields:\n",
       "  spatial_series: {\n",
       "    SpatialSeries <class 'pynwb.behavior.SpatialSeries'>\n",
       "  }"
      ]
     },
     "execution_count": 20,
     "metadata": {},
     "output_type": "execute_result"
    }
   ],
   "source": [
    "# Create a SpatialSeries that contains the data - extension of TimeSeries\n",
    "spatial_series_obj = SpatialSeries(\n",
    "    name = 'SpatialSeries', \n",
    "    description = '(x,y) position in open field',\n",
    "    data = position_data,\n",
    "    timestamps = position_times,   # if no timestamps are provided, session_start_time from file setup will be used - ?\n",
    "    reference_frame = '(0,0) is bottom left corner'\n",
    ")\n",
    "\n",
    "# Create a container \"Position\" that can contain multiple \n",
    "# SpatialSeries - e.g. if multiple trials are used? not sure though\n",
    "position_obj = Position(spatial_series=spatial_series_obj) # name is set to 'Position' by default\n",
    "\n",
    "# Create a \"Processing_module\" to store the behavioral data, \n",
    "# since it is not considered as raw due to preprocessing \n",
    "# by other alglorithms / softwares\n",
    "behavior_module = nwbfile.create_processing_module(\n",
    "    name='behavior', \n",
    "    description='processed behavioral data'\n",
    ")\n",
    "\n",
    "# Add the Processing_module to the NWB:N file\n",
    "behavior_module.add(position_obj)\n",
    "\n",
    "#behavior_module.add(behaviorl_epochs_obj)\n",
    "\n",
    "\n",
    "\n",
    "#behavior_module.add(timeseries_obj)"
   ]
  },
  {
   "cell_type": "markdown",
   "id": "73f2c90a-6470-401b-b565-4a556a608ef5",
   "metadata": {},
   "source": [
    "## Add HeartRate recordings"
   ]
  },
  {
   "cell_type": "code",
   "execution_count": 22,
   "id": "e7c22f86-17ac-4825-8d8a-478c0f5d522b",
   "metadata": {},
   "outputs": [
    {
     "data": {
      "text/plain": [
       "Heart rate recording pynwb.base.TimeSeries at 0x139892637535296\n",
       "Fields:\n",
       "  comments: no comments\n",
       "  conversion: 1.0\n",
       "  data: [         nan          nan          nan ... 680.01511145 678.98906073\n",
       " 676.43742954]\n",
       "  description: no description\n",
       "  interval: 1\n",
       "  resolution: -1.0\n",
       "  timestamps: [9.300000e-02 1.738000e-01 2.536000e-01 ... 8.996550e+02 8.997442e+02\n",
       " 8.998342e+02]\n",
       "  timestamps_unit: seconds\n",
       "  unit: beats per minute"
      ]
     },
     "execution_count": 22,
     "metadata": {},
     "output_type": "execute_result"
    }
   ],
   "source": [
    "hr_mod = nwbfile.create_processing_module('cardiac', 'processed heart rate recording data')\n",
    "hr_mod.add(heartrate_obj)"
   ]
  },
  {
   "cell_type": "markdown",
   "id": "5cc18ca3-848b-44fe-8e54-3cb7c231762a",
   "metadata": {},
   "source": [
    "## Add thermal data (dummy data)"
   ]
  },
  {
   "cell_type": "code",
   "execution_count": 23,
   "id": "fb55cf50-73bd-41d1-8660-f791a6acdb9f",
   "metadata": {},
   "outputs": [
    {
     "data": {
      "text/plain": [
       "Thermal recording pynwb.base.TimeSeries at 0x139895210134832\n",
       "Fields:\n",
       "  comments: no comments\n",
       "  conversion: 1.0\n",
       "  data: [26.46465454 26.45976227 26.45495887 ... 34.07843137 34.07843137\n",
       " 34.07843137]\n",
       "  description: no description\n",
       "  interval: 1\n",
       "  resolution: -1.0\n",
       "  timestamps: [  5.75   6.     6.25 ... 899.25 899.5  899.75]\n",
       "  timestamps_unit: seconds\n",
       "  unit: degrees celsius"
      ]
     },
     "execution_count": 23,
     "metadata": {},
     "output_type": "execute_result"
    }
   ],
   "source": [
    "temp_mod = nwbfile.create_processing_module('thermal', 'processed temperature recording data')\n",
    "temp_mod.add(temperature_obj)"
   ]
  },
  {
   "cell_type": "code",
   "execution_count": 24,
   "id": "f13d586b-733f-470e-9f7e-f3444d74cff6",
   "metadata": {},
   "outputs": [
    {
     "data": {
      "application/vnd.jupyter.widget-view+json": {
       "model_id": "dc6eab535141434bb565bd3e03f6bbda",
       "version_major": 2,
       "version_minor": 0
      },
      "text/plain": [
       "VBox(children=(HBox(children=(Label(value='session_description:', layout=Layout(max_height='40px', max_width='…"
      ]
     },
     "metadata": {},
     "output_type": "display_data"
    }
   ],
   "source": [
    "nwb2widget(nwbfile)"
   ]
  },
  {
   "cell_type": "markdown",
   "id": "1d7c78c9-5498-4602-868a-d15ee1f101dd",
   "metadata": {},
   "source": [
    "## Inspect the generated NWB file using NWB widgets"
   ]
  },
  {
   "cell_type": "code",
   "execution_count": 25,
   "id": "10debec0-ac8d-4351-bf18-bb936cd63add",
   "metadata": {},
   "outputs": [],
   "source": [
    "with NWBHDF5IO(file_dir + 'DCL_CAI_data.nwb', 'w') as io:\n",
    "    io.write(nwbfile)"
   ]
  },
  {
   "cell_type": "code",
   "execution_count": 26,
   "id": "6f08883e-ddc7-4fbd-a61a-a16c3d292b34",
   "metadata": {},
   "outputs": [],
   "source": [
    "io = NWBHDF5IO(file_dir + 'DCL_CAI_data.nwb', 'r')\n",
    "read_nwbfile = io.read()"
   ]
  },
  {
   "cell_type": "code",
   "execution_count": 27,
   "id": "b42c9e70-fc77-4ec4-a713-0a0d937d718e",
   "metadata": {},
   "outputs": [
    {
     "data": {
      "application/vnd.jupyter.widget-view+json": {
       "model_id": "100ac54c32124b99bba3b8c2cd4452f0",
       "version_major": 2,
       "version_minor": 0
      },
      "text/plain": [
       "VBox(children=(HBox(children=(Label(value='session_description:', layout=Layout(max_height='40px', max_width='…"
      ]
     },
     "metadata": {},
     "output_type": "display_data"
    }
   ],
   "source": [
    "nwb2widget(read_nwbfile)"
   ]
  },
  {
   "cell_type": "markdown",
   "id": "d35bbbcc-76f0-4a21-ae61-26f61402439d",
   "metadata": {},
   "source": [
    "\n",
    "\n",
    "\n",
    "\n",
    "\n",
    "\n",
    "\n",
    "\n",
    "\n",
    "\n",
    "\n",
    "\n",
    "\n",
    "\n",
    "\n",
    "\n",
    "\n",
    "\n",
    "\n",
    "\n",
    "\n",
    "\n",
    "\n",
    "\n",
    "\n",
    "\n",
    "\n",
    "\n",
    "\n",
    "\n",
    "\n",
    "\n",
    "\n",
    "\n",
    "\n",
    "\n"
   ]
  },
  {
   "cell_type": "markdown",
   "id": "b9c57d64-cf32-4af3-ac74-c8d4dac1540a",
   "metadata": {},
   "source": [
    " "
   ]
  },
  {
   "cell_type": "markdown",
   "id": "2a362b35-fa10-4773-9872-04967fd86d98",
   "metadata": {},
   "source": [
    " "
   ]
  },
  {
   "cell_type": "markdown",
   "id": "8e7e2d22-01de-4aaf-a36e-897a8e5fe293",
   "metadata": {},
   "source": [
    "## Some attempts to include raw RGB movie as acquisition file"
   ]
  },
  {
   "cell_type": "code",
   "execution_count": null,
   "id": "28dda7a4-20fc-478d-b6f4-7b0644e323f5",
   "metadata": {
    "jupyter": {
     "source_hidden": true
    },
    "tags": []
   },
   "outputs": [],
   "source": [
    "import cv2\n",
    "cap = cv2.VideoCapture('175_F7-49_201030_OF.AVI')\n",
    "\n",
    "l_frames = []\n",
    "for i in range(500):\n",
    "    cap.set(cv2.CAP_PROP_POS_FRAMES,i)\n",
    "    a,b=cap.read()\n",
    "    l_frames.append(cv2.cvtColor(b, cv2.COLOR_BGR2GRAY))\n",
    "    \n",
    "    \n",
    "raw_behavior_movie = np.asarray(l_frames)\n",
    "\n",
    "raw_behavior_movie.shape\n",
    "\n",
    "import h5py\n",
    "\n",
    "with h5py.File('resize_dataset.hdf5', 'w') as f:\n",
    "    f.create_dataset('raw RGB movie',  data=raw_behavior_movie, maxshape=(None, 480, 640))\n",
    "    \n",
    "with h5py.File('resize_dataset.hdf5', 'a') as f:\n",
    "    print(f['raw RGB movie'][:].shape)\n",
    "    \n",
    "    \n",
    "with h5py.File('resize_dataset.hdf5', 'a') as f:\n",
    "    f['raw RGB movie'].resize(600, axis=0)\n",
    "    f['raw RGB movie'][500:600] = raw_behavior_movie[:100]\n",
    "    print(f['raw RGB movie'][:].shape)\n",
    "    \n",
    "    \n",
    "with h5py.File('resize_dataset.hdf5', 'a') as f:\n",
    "    print(f['raw RGB movie'][:].shape)    \n",
    "\n",
    "    \n",
    "    \n",
    "from pynwb.image import ImageSeries\n",
    "\n",
    "behavior_movie_obj = ImageSeries('top view - grayscale2', format='external', external_file=['resize_dataset.hdf5'], rate = 900/27000, starting_time=0.0)\n",
    "\n",
    "\n",
    "nwbfile.add_acquisition(behavior_movie_obj)\n",
    "\n",
    "\n",
    "from pynwb.image import ImageSeries\n",
    "\n",
    "behavior_movie_obj = ImageSeries('top view - grayscale2', data=raw_behavior_movie, rate = 900/27000, starting_time=0.0)\n",
    "\n",
    "nwbfile.add_acquisition(behavior_movie_obj)\n",
    "\n",
    "\n",
    "from pynwb.image import OpticalSeries\n",
    "\n",
    "behavior_mov_obj = OpticalSeries('top view - grayscale3', data=raw_behavior_movie, rate=900/27000, starting_time=0.0, \n",
    "                                 distance=0.3, field_of_view=[1, 1], orientation='up is up')\n",
    "\n",
    "nwbfile.add_acquisition(behavior_mov_obj)"
   ]
  },
  {
   "cell_type": "markdown",
   "id": "80668b7a-d98a-45f1-8453-dfc54e73aecb",
   "metadata": {},
   "source": [
    " "
   ]
  },
  {
   "cell_type": "markdown",
   "id": "d7fdc84e-2015-4abb-9933-cb7b42cfa83f",
   "metadata": {},
   "source": [
    "\n",
    "\n",
    "\n",
    "\n",
    "\n",
    "\n",
    "\n",
    "\n",
    "\n",
    "\n",
    "\n",
    "\n",
    "\n",
    "\n",
    "\n",
    "\n",
    "\n",
    "\n",
    "\n",
    "\n",
    "\n",
    "\n",
    "\n",
    "\n",
    "\n",
    "\n",
    "\n",
    "\n",
    "\n",
    "\n",
    "\n",
    "\n",
    "\n",
    "\n",
    "\n",
    "\n"
   ]
  },
  {
   "cell_type": "markdown",
   "id": "34bf4dc5-9967-4723-96b3-450d1c7e79ba",
   "metadata": {},
   "source": [
    " "
   ]
  },
  {
   "cell_type": "markdown",
   "id": "e8f297aa-9cda-43b5-aa33-b4b1fd693427",
   "metadata": {},
   "source": [
    " "
   ]
  },
  {
   "cell_type": "markdown",
   "id": "4a715d95-c79e-4cb8-a0cb-7b7ae0390821",
   "metadata": {},
   "source": [
    " "
   ]
  },
  {
   "cell_type": "markdown",
   "id": "821ddf3f-bb56-4b74-9e72-edb9efd2eab6",
   "metadata": {},
   "source": [
    "\n",
    "\n",
    "\n",
    "\n",
    "\n",
    "\n",
    "\n",
    "\n",
    "\n",
    "\n",
    "\n",
    "\n",
    "\n",
    "\n",
    "\n",
    "\n",
    "\n",
    "\n",
    "\n",
    "\n",
    "\n",
    "\n",
    "\n",
    "\n",
    "\n",
    "\n",
    "\n",
    "\n",
    "\n",
    "\n",
    "\n",
    "\n",
    "\n",
    "\n",
    "\n",
    "\n"
   ]
  },
  {
   "cell_type": "markdown",
   "id": "34974142-c42e-4e0a-9b85-006c58423cae",
   "metadata": {},
   "source": [
    " "
   ]
  },
  {
   "cell_type": "markdown",
   "id": "d3939204-1647-44fc-a295-375add1db31b",
   "metadata": {},
   "source": [
    " "
   ]
  },
  {
   "cell_type": "markdown",
   "id": "e5b3dbf3-4125-4318-9807-faa7aedf573a",
   "metadata": {},
   "source": [
    " "
   ]
  },
  {
   "cell_type": "markdown",
   "id": "b59b22fc-977e-4259-a54a-6af3a672d8c3",
   "metadata": {},
   "source": [
    "\n",
    "\n",
    "\n",
    "\n",
    "\n",
    "\n",
    "\n",
    "\n",
    "\n",
    "\n",
    "\n",
    "\n",
    "\n",
    "\n",
    "\n",
    "\n",
    "\n",
    "\n",
    "\n",
    "\n",
    "\n",
    "\n",
    "\n",
    "\n",
    "\n",
    "\n",
    "\n",
    "\n",
    "\n",
    "\n",
    "\n",
    "\n",
    "\n",
    "\n",
    "\n",
    "\n"
   ]
  },
  {
   "cell_type": "markdown",
   "id": "313050a2-a4bc-47b1-a409-241b1ae24789",
   "metadata": {},
   "source": [
    " "
   ]
  },
  {
   "cell_type": "markdown",
   "id": "d8d8584c-5471-4e0a-9579-705b236941f3",
   "metadata": {},
   "source": [
    " "
   ]
  },
  {
   "cell_type": "markdown",
   "id": "6aac698a-8884-449d-a5c7-caafa8d5c2a4",
   "metadata": {},
   "source": [
    " "
   ]
  },
  {
   "cell_type": "markdown",
   "id": "aa0cdb4c-56e5-4b5b-a27e-f12180b9a247",
   "metadata": {},
   "source": [
    "\n",
    "\n",
    "\n",
    "\n",
    "\n",
    "\n",
    "\n",
    "\n",
    "\n",
    "\n",
    "\n",
    "\n",
    "\n",
    "\n",
    "\n",
    "\n",
    "\n",
    "\n",
    "\n",
    "\n",
    "\n",
    "\n",
    "\n",
    "\n",
    "\n",
    "\n",
    "\n",
    "\n",
    "\n",
    "\n",
    "\n",
    "\n",
    "\n",
    "\n",
    "\n",
    "\n"
   ]
  },
  {
   "cell_type": "markdown",
   "id": "0d45d29e-3ed4-4106-b43a-e3c125e98e41",
   "metadata": {},
   "source": [
    " "
   ]
  },
  {
   "cell_type": "markdown",
   "id": "77a9aa27-d4b1-471d-905e-de4a0563fee1",
   "metadata": {},
   "source": [
    " "
   ]
  },
  {
   "cell_type": "markdown",
   "id": "93bb24dc-2ff9-4454-8b81-144d3aa4113e",
   "metadata": {},
   "source": [
    " "
   ]
  },
  {
   "cell_type": "markdown",
   "id": "fceebcea-0a4b-4547-9218-5ce9373d5ac6",
   "metadata": {},
   "source": [
    "\n",
    "\n",
    "\n",
    "\n",
    "\n",
    "\n",
    "\n",
    "\n",
    "\n",
    "\n",
    "\n",
    "\n",
    "\n",
    "\n",
    "\n",
    "\n",
    "\n",
    "\n",
    "\n",
    "\n",
    "\n",
    "\n",
    "\n",
    "\n",
    "\n",
    "\n",
    "\n",
    "\n",
    "\n",
    "\n",
    "\n",
    "\n",
    "\n",
    "\n",
    "\n",
    "\n"
   ]
  },
  {
   "cell_type": "markdown",
   "id": "b2603cfa-5b64-435a-8e1e-71d477778fa1",
   "metadata": {},
   "source": [
    " "
   ]
  },
  {
   "cell_type": "markdown",
   "id": "23c7dea5-6d75-4e93-927b-b6ad108eabed",
   "metadata": {},
   "source": [
    " "
   ]
  },
  {
   "cell_type": "markdown",
   "id": "4c4928c5-2bd5-4aa2-91d1-95aecdbc74fc",
   "metadata": {},
   "source": [
    " "
   ]
  }
 ],
 "metadata": {
  "kernelspec": {
   "display_name": "Python 3 (ipykernel)",
   "language": "python",
   "name": "python3"
  },
  "language_info": {
   "codemirror_mode": {
    "name": "ipython",
    "version": 3
   },
   "file_extension": ".py",
   "mimetype": "text/x-python",
   "name": "python",
   "nbconvert_exporter": "python",
   "pygments_lexer": "ipython3",
   "version": "3.9.6"
  }
 },
 "nbformat": 4,
 "nbformat_minor": 5
}
